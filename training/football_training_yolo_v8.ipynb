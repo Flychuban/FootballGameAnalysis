{
 "cells": [
  {
   "cell_type": "code",
   "execution_count": 7,
   "metadata": {},
   "outputs": [
    {
     "name": "stdout",
     "output_type": "stream",
     "text": [
      "Requirement already satisfied: roboflow in /Users/flychuban/miniconda3/lib/python3.10/site-packages (1.1.42)\n",
      "Requirement already satisfied: certifi in /Users/flychuban/miniconda3/lib/python3.10/site-packages (from roboflow) (2023.11.17)\n",
      "Requirement already satisfied: idna==3.7 in /Users/flychuban/miniconda3/lib/python3.10/site-packages (from roboflow) (3.7)\n",
      "Requirement already satisfied: cycler in /Users/flychuban/miniconda3/lib/python3.10/site-packages (from roboflow) (0.12.1)\n",
      "Requirement already satisfied: kiwisolver>=1.3.1 in /Users/flychuban/miniconda3/lib/python3.10/site-packages (from roboflow) (1.4.5)\n",
      "Requirement already satisfied: matplotlib in /Users/flychuban/miniconda3/lib/python3.10/site-packages (from roboflow) (3.8.2)\n",
      "Requirement already satisfied: numpy>=1.18.5 in /Users/flychuban/miniconda3/lib/python3.10/site-packages (from roboflow) (1.26.3)\n",
      "Requirement already satisfied: opencv-python-headless==4.10.0.84 in /Users/flychuban/miniconda3/lib/python3.10/site-packages (from roboflow) (4.10.0.84)\n",
      "Requirement already satisfied: Pillow>=7.1.2 in /Users/flychuban/miniconda3/lib/python3.10/site-packages (from roboflow) (10.1.0)\n",
      "Requirement already satisfied: python-dateutil in /Users/flychuban/miniconda3/lib/python3.10/site-packages (from roboflow) (2.8.2)\n",
      "Requirement already satisfied: python-dotenv in /Users/flychuban/miniconda3/lib/python3.10/site-packages (from roboflow) (1.0.1)\n",
      "Requirement already satisfied: requests in /Users/flychuban/miniconda3/lib/python3.10/site-packages (from roboflow) (2.31.0)\n",
      "Requirement already satisfied: six in /Users/flychuban/miniconda3/lib/python3.10/site-packages (from roboflow) (1.16.0)\n",
      "Requirement already satisfied: urllib3>=1.26.6 in /Users/flychuban/miniconda3/lib/python3.10/site-packages (from roboflow) (1.26.18)\n",
      "Requirement already satisfied: tqdm>=4.41.0 in /Users/flychuban/miniconda3/lib/python3.10/site-packages (from roboflow) (4.65.0)\n",
      "Requirement already satisfied: PyYAML>=5.3.1 in /Users/flychuban/miniconda3/lib/python3.10/site-packages (from roboflow) (6.0.1)\n",
      "Requirement already satisfied: requests-toolbelt in /Users/flychuban/miniconda3/lib/python3.10/site-packages (from roboflow) (1.0.0)\n",
      "Requirement already satisfied: filetype in /Users/flychuban/miniconda3/lib/python3.10/site-packages (from roboflow) (1.2.0)\n",
      "Requirement already satisfied: contourpy>=1.0.1 in /Users/flychuban/miniconda3/lib/python3.10/site-packages (from matplotlib->roboflow) (1.2.0)\n",
      "Requirement already satisfied: fonttools>=4.22.0 in /Users/flychuban/miniconda3/lib/python3.10/site-packages (from matplotlib->roboflow) (4.46.0)\n",
      "Requirement already satisfied: packaging>=20.0 in /Users/flychuban/miniconda3/lib/python3.10/site-packages (from matplotlib->roboflow) (23.1)\n",
      "Requirement already satisfied: pyparsing>=2.3.1 in /Users/flychuban/miniconda3/lib/python3.10/site-packages (from matplotlib->roboflow) (3.1.1)\n",
      "Requirement already satisfied: charset-normalizer<4,>=2 in /Users/flychuban/miniconda3/lib/python3.10/site-packages (from requests->roboflow) (2.0.4)\n",
      "Note: you may need to restart the kernel to use updated packages.\n",
      "Requirement already satisfied: ultralytics==8.0.196 in /Users/flychuban/miniconda3/lib/python3.10/site-packages (8.0.196)\n",
      "Requirement already satisfied: matplotlib>=3.3.0 in /Users/flychuban/miniconda3/lib/python3.10/site-packages (from ultralytics==8.0.196) (3.8.2)\n",
      "Requirement already satisfied: numpy>=1.22.2 in /Users/flychuban/miniconda3/lib/python3.10/site-packages (from ultralytics==8.0.196) (1.26.3)\n",
      "Requirement already satisfied: opencv-python>=4.6.0 in /Users/flychuban/miniconda3/lib/python3.10/site-packages (from ultralytics==8.0.196) (4.9.0.80)\n",
      "Requirement already satisfied: pillow>=7.1.2 in /Users/flychuban/miniconda3/lib/python3.10/site-packages (from ultralytics==8.0.196) (10.1.0)\n",
      "Requirement already satisfied: pyyaml>=5.3.1 in /Users/flychuban/miniconda3/lib/python3.10/site-packages (from ultralytics==8.0.196) (6.0.1)\n",
      "Requirement already satisfied: requests>=2.23.0 in /Users/flychuban/miniconda3/lib/python3.10/site-packages (from ultralytics==8.0.196) (2.31.0)\n",
      "Requirement already satisfied: scipy>=1.4.1 in /Users/flychuban/miniconda3/lib/python3.10/site-packages (from ultralytics==8.0.196) (1.11.4)\n",
      "Requirement already satisfied: torch>=1.8.0 in /Users/flychuban/miniconda3/lib/python3.10/site-packages (from ultralytics==8.0.196) (2.1.1)\n",
      "Requirement already satisfied: torchvision>=0.9.0 in /Users/flychuban/miniconda3/lib/python3.10/site-packages (from ultralytics==8.0.196) (0.16.1)\n",
      "Requirement already satisfied: tqdm>=4.64.0 in /Users/flychuban/miniconda3/lib/python3.10/site-packages (from ultralytics==8.0.196) (4.65.0)\n",
      "Requirement already satisfied: pandas>=1.1.4 in /Users/flychuban/miniconda3/lib/python3.10/site-packages (from ultralytics==8.0.196) (2.1.4)\n",
      "Requirement already satisfied: seaborn>=0.11.0 in /Users/flychuban/miniconda3/lib/python3.10/site-packages (from ultralytics==8.0.196) (0.13.0)\n",
      "Requirement already satisfied: psutil in /Users/flychuban/miniconda3/lib/python3.10/site-packages (from ultralytics==8.0.196) (5.9.0)\n",
      "Requirement already satisfied: py-cpuinfo in /Users/flychuban/miniconda3/lib/python3.10/site-packages (from ultralytics==8.0.196) (9.0.0)\n",
      "Requirement already satisfied: thop>=0.1.1 in /Users/flychuban/miniconda3/lib/python3.10/site-packages (from ultralytics==8.0.196) (0.1.1.post2209072238)\n",
      "Requirement already satisfied: contourpy>=1.0.1 in /Users/flychuban/miniconda3/lib/python3.10/site-packages (from matplotlib>=3.3.0->ultralytics==8.0.196) (1.2.0)\n",
      "Requirement already satisfied: cycler>=0.10 in /Users/flychuban/miniconda3/lib/python3.10/site-packages (from matplotlib>=3.3.0->ultralytics==8.0.196) (0.12.1)\n",
      "Requirement already satisfied: fonttools>=4.22.0 in /Users/flychuban/miniconda3/lib/python3.10/site-packages (from matplotlib>=3.3.0->ultralytics==8.0.196) (4.46.0)\n",
      "Requirement already satisfied: kiwisolver>=1.3.1 in /Users/flychuban/miniconda3/lib/python3.10/site-packages (from matplotlib>=3.3.0->ultralytics==8.0.196) (1.4.5)\n",
      "Requirement already satisfied: packaging>=20.0 in /Users/flychuban/miniconda3/lib/python3.10/site-packages (from matplotlib>=3.3.0->ultralytics==8.0.196) (23.1)\n",
      "Requirement already satisfied: pyparsing>=2.3.1 in /Users/flychuban/miniconda3/lib/python3.10/site-packages (from matplotlib>=3.3.0->ultralytics==8.0.196) (3.1.1)\n",
      "Requirement already satisfied: python-dateutil>=2.7 in /Users/flychuban/miniconda3/lib/python3.10/site-packages (from matplotlib>=3.3.0->ultralytics==8.0.196) (2.8.2)\n",
      "Requirement already satisfied: pytz>=2020.1 in /Users/flychuban/miniconda3/lib/python3.10/site-packages (from pandas>=1.1.4->ultralytics==8.0.196) (2023.3.post1)\n",
      "Requirement already satisfied: tzdata>=2022.1 in /Users/flychuban/miniconda3/lib/python3.10/site-packages (from pandas>=1.1.4->ultralytics==8.0.196) (2023.3)\n",
      "Requirement already satisfied: charset-normalizer<4,>=2 in /Users/flychuban/miniconda3/lib/python3.10/site-packages (from requests>=2.23.0->ultralytics==8.0.196) (2.0.4)\n",
      "Requirement already satisfied: idna<4,>=2.5 in /Users/flychuban/miniconda3/lib/python3.10/site-packages (from requests>=2.23.0->ultralytics==8.0.196) (3.7)\n",
      "Requirement already satisfied: urllib3<3,>=1.21.1 in /Users/flychuban/miniconda3/lib/python3.10/site-packages (from requests>=2.23.0->ultralytics==8.0.196) (1.26.18)\n",
      "Requirement already satisfied: certifi>=2017.4.17 in /Users/flychuban/miniconda3/lib/python3.10/site-packages (from requests>=2.23.0->ultralytics==8.0.196) (2023.11.17)\n",
      "Requirement already satisfied: filelock in /Users/flychuban/miniconda3/lib/python3.10/site-packages (from torch>=1.8.0->ultralytics==8.0.196) (3.13.1)\n",
      "Requirement already satisfied: typing-extensions in /Users/flychuban/miniconda3/lib/python3.10/site-packages (from torch>=1.8.0->ultralytics==8.0.196) (4.11.0)\n",
      "Requirement already satisfied: sympy in /Users/flychuban/miniconda3/lib/python3.10/site-packages (from torch>=1.8.0->ultralytics==8.0.196) (1.12)\n",
      "Requirement already satisfied: networkx in /Users/flychuban/miniconda3/lib/python3.10/site-packages (from torch>=1.8.0->ultralytics==8.0.196) (3.2.1)\n",
      "Requirement already satisfied: jinja2 in /Users/flychuban/miniconda3/lib/python3.10/site-packages (from torch>=1.8.0->ultralytics==8.0.196) (3.1.2)\n",
      "Requirement already satisfied: fsspec in /Users/flychuban/miniconda3/lib/python3.10/site-packages (from torch>=1.8.0->ultralytics==8.0.196) (2023.12.1)\n",
      "Requirement already satisfied: six>=1.5 in /Users/flychuban/miniconda3/lib/python3.10/site-packages (from python-dateutil>=2.7->matplotlib>=3.3.0->ultralytics==8.0.196) (1.16.0)\n",
      "Requirement already satisfied: MarkupSafe>=2.0 in /Users/flychuban/miniconda3/lib/python3.10/site-packages (from jinja2->torch>=1.8.0->ultralytics==8.0.196) (2.1.1)\n",
      "Requirement already satisfied: mpmath>=0.19 in /Users/flychuban/miniconda3/lib/python3.10/site-packages (from sympy->torch>=1.8.0->ultralytics==8.0.196) (1.3.0)\n",
      "Note: you may need to restart the kernel to use updated packages.\n",
      "Requirement already satisfied: python-dotenv in /Users/flychuban/miniconda3/lib/python3.10/site-packages (1.0.1)\n",
      "Note: you may need to restart the kernel to use updated packages.\n",
      "Requirement already satisfied: torch in /Users/flychuban/miniconda3/lib/python3.10/site-packages (2.1.1)\n",
      "Requirement already satisfied: torchvision in /Users/flychuban/miniconda3/lib/python3.10/site-packages (0.16.1)\n",
      "Requirement already satisfied: torchaudio in /Users/flychuban/miniconda3/lib/python3.10/site-packages (2.1.1)\n",
      "Requirement already satisfied: filelock in /Users/flychuban/miniconda3/lib/python3.10/site-packages (from torch) (3.13.1)\n",
      "Requirement already satisfied: typing-extensions in /Users/flychuban/miniconda3/lib/python3.10/site-packages (from torch) (4.11.0)\n",
      "Requirement already satisfied: sympy in /Users/flychuban/miniconda3/lib/python3.10/site-packages (from torch) (1.12)\n",
      "Requirement already satisfied: networkx in /Users/flychuban/miniconda3/lib/python3.10/site-packages (from torch) (3.2.1)\n",
      "Requirement already satisfied: jinja2 in /Users/flychuban/miniconda3/lib/python3.10/site-packages (from torch) (3.1.2)\n",
      "Requirement already satisfied: fsspec in /Users/flychuban/miniconda3/lib/python3.10/site-packages (from torch) (2023.12.1)\n",
      "Requirement already satisfied: numpy in /Users/flychuban/miniconda3/lib/python3.10/site-packages (from torchvision) (1.26.3)\n",
      "Requirement already satisfied: requests in /Users/flychuban/miniconda3/lib/python3.10/site-packages (from torchvision) (2.31.0)\n",
      "Requirement already satisfied: pillow!=8.3.*,>=5.3.0 in /Users/flychuban/miniconda3/lib/python3.10/site-packages (from torchvision) (10.1.0)\n",
      "Requirement already satisfied: MarkupSafe>=2.0 in /Users/flychuban/miniconda3/lib/python3.10/site-packages (from jinja2->torch) (2.1.1)\n",
      "Requirement already satisfied: charset-normalizer<4,>=2 in /Users/flychuban/miniconda3/lib/python3.10/site-packages (from requests->torchvision) (2.0.4)\n",
      "Requirement already satisfied: idna<4,>=2.5 in /Users/flychuban/miniconda3/lib/python3.10/site-packages (from requests->torchvision) (3.7)\n",
      "Requirement already satisfied: urllib3<3,>=1.21.1 in /Users/flychuban/miniconda3/lib/python3.10/site-packages (from requests->torchvision) (1.26.18)\n",
      "Requirement already satisfied: certifi>=2017.4.17 in /Users/flychuban/miniconda3/lib/python3.10/site-packages (from requests->torchvision) (2023.11.17)\n",
      "Requirement already satisfied: mpmath>=0.19 in /Users/flychuban/miniconda3/lib/python3.10/site-packages (from sympy->torch) (1.3.0)\n",
      "Note: you may need to restart the kernel to use updated packages.\n"
     ]
    }
   ],
   "source": [
    "%pip install roboflow\n",
    "%pip install ultralytics==8.0.196\n",
    "%pip install python-dotenv\n",
    "%pip install torch torchvision torchaudio"
   ]
  },
  {
   "cell_type": "code",
   "execution_count": 2,
   "metadata": {},
   "outputs": [
    {
     "name": "stdout",
     "output_type": "stream",
     "text": [
      "loading Roboflow workspace...\n",
      "loading Roboflow project...\n"
     ]
    }
   ],
   "source": [
    "from ultralytics import *\n",
    "from roboflow import Roboflow\n",
    "import dotenv\n",
    "import os\n",
    "\n",
    "# Load environment variables\n",
    "dotenv.load_dotenv()\n",
    "\n",
    "# Load data\n",
    "rf = Roboflow(api_key=os.getenv(\"ROBOFLOW_API_KEY\"))\n",
    "project = rf.workspace(\"delfos\").project(\"bundesliga-data-shootout-a411n\")\n",
    "version = project.version(9)\n",
    "dataset = version.download(\"yolov8\")\n",
    "                "
   ]
  },
  {
   "cell_type": "markdown",
   "metadata": {},
   "source": [
    "Move dataset directories one folder deeper because of yolo requirements"
   ]
  },
  {
   "cell_type": "code",
   "execution_count": 3,
   "metadata": {},
   "outputs": [
    {
     "data": {
      "text/plain": [
       "'Bundesliga-Data-Shootout-9/Bundesliga-Data-Shootout-9/test'"
      ]
     },
     "execution_count": 3,
     "metadata": {},
     "output_type": "execute_result"
    }
   ],
   "source": [
    "import shutil\n",
    "\n",
    "shutil.move(\"Bundesliga-Data-Shootout-9/train\",\n",
    "            \"Bundesliga-Data-Shootout-9/Bundesliga-Data-Shootout-9/train\")\n",
    "\n",
    "shutil.move(\"Bundesliga-Data-Shootout-9/valid\",\n",
    "            \"Bundesliga-Data-Shootout-9/Bundesliga-Data-Shootout-9/valid\")\n",
    "\n",
    "shutil.move(\"Bundesliga-Data-Shootout-9/test\",\n",
    "            \"Bundesliga-Data-Shootout-9/Bundesliga-Data-Shootout-9/test\")\n"
   ]
  },
  {
   "cell_type": "markdown",
   "metadata": {},
   "source": [
    "Training"
   ]
  },
  {
   "cell_type": "code",
   "execution_count": 9,
   "metadata": {},
   "outputs": [
    {
     "name": "stdout",
     "output_type": "stream",
     "text": [
      "Downloading https://github.com/ultralytics/assets/releases/download/v0.0.0/yolov8n.pt to 'yolov8n.pt'...\n",
      "100%|██████████████████████████████████████| 6.23M/6.23M [00:02<00:00, 3.26MB/s]\n",
      "New https://pypi.org/project/ultralytics/8.2.81 available 😃 Update with 'pip install -U ultralytics'\n",
      "Ultralytics YOLOv8.0.196 🚀 Python-3.10.13 torch-2.1.1 MPS (Apple M3 Max)\n",
      "\u001b[34m\u001b[1mengine/trainer: \u001b[0mtask=detect, mode=train, model=yolov8n, data=/Users/flychuban/Desktop/TUES_10_klas/Exercise_projects/FootballGameAnalysis/training/Bundesliga-Data-Shootout-9/data.yaml, epochs=100, patience=50, batch=16, imgsz=640, save=True, save_period=-1, cache=False, device=mps, workers=8, project=None, name=None, exist_ok=False, pretrained=True, optimizer=auto, verbose=True, seed=0, deterministic=True, single_cls=False, rect=False, cos_lr=False, close_mosaic=10, resume=False, amp=True, fraction=1.0, profile=False, freeze=None, overlap_mask=True, mask_ratio=4, dropout=0.0, val=True, split=val, save_json=False, save_hybrid=False, conf=None, iou=0.7, max_det=300, half=False, dnn=False, plots=True, source=None, show=False, save_txt=False, save_conf=False, save_crop=False, show_labels=True, show_conf=True, vid_stride=1, stream_buffer=False, line_width=None, visualize=False, augment=False, agnostic_nms=False, classes=None, retina_masks=False, boxes=True, format=torchscript, keras=False, optimize=False, int8=False, dynamic=False, simplify=False, opset=None, workspace=4, nms=False, lr0=0.01, lrf=0.01, momentum=0.937, weight_decay=0.0005, warmup_epochs=3.0, warmup_momentum=0.8, warmup_bias_lr=0.1, box=7.5, cls=0.5, dfl=1.5, pose=12.0, kobj=1.0, label_smoothing=0.0, nbs=64, hsv_h=0.015, hsv_s=0.7, hsv_v=0.4, degrees=0.0, translate=0.1, scale=0.5, shear=0.0, perspective=0.0, flipud=0.0, fliplr=0.5, mosaic=1.0, mixup=0.0, copy_paste=0.0, cfg=None, tracker=botsort.yaml, save_dir=runs/detect/train2\n",
      "Overriding model.yaml nc=80 with nc=2\n",
      "\n",
      "                   from  n    params  module                                       arguments                     \n",
      "  0                  -1  1       464  ultralytics.nn.modules.conv.Conv             [3, 16, 3, 2]                 \n",
      "  1                  -1  1      4672  ultralytics.nn.modules.conv.Conv             [16, 32, 3, 2]                \n",
      "  2                  -1  1      7360  ultralytics.nn.modules.block.C2f             [32, 32, 1, True]             \n",
      "  3                  -1  1     18560  ultralytics.nn.modules.conv.Conv             [32, 64, 3, 2]                \n",
      "  4                  -1  2     49664  ultralytics.nn.modules.block.C2f             [64, 64, 2, True]             \n",
      "  5                  -1  1     73984  ultralytics.nn.modules.conv.Conv             [64, 128, 3, 2]               \n",
      "  6                  -1  2    197632  ultralytics.nn.modules.block.C2f             [128, 128, 2, True]           \n",
      "  7                  -1  1    295424  ultralytics.nn.modules.conv.Conv             [128, 256, 3, 2]              \n",
      "  8                  -1  1    460288  ultralytics.nn.modules.block.C2f             [256, 256, 1, True]           \n",
      "  9                  -1  1    164608  ultralytics.nn.modules.block.SPPF            [256, 256, 5]                 \n",
      " 10                  -1  1         0  torch.nn.modules.upsampling.Upsample         [None, 2, 'nearest']          \n",
      " 11             [-1, 6]  1         0  ultralytics.nn.modules.conv.Concat           [1]                           \n",
      " 12                  -1  1    148224  ultralytics.nn.modules.block.C2f             [384, 128, 1]                 \n",
      " 13                  -1  1         0  torch.nn.modules.upsampling.Upsample         [None, 2, 'nearest']          \n",
      " 14             [-1, 4]  1         0  ultralytics.nn.modules.conv.Concat           [1]                           \n",
      " 15                  -1  1     37248  ultralytics.nn.modules.block.C2f             [192, 64, 1]                  \n",
      " 16                  -1  1     36992  ultralytics.nn.modules.conv.Conv             [64, 64, 3, 2]                \n",
      " 17            [-1, 12]  1         0  ultralytics.nn.modules.conv.Concat           [1]                           \n",
      " 18                  -1  1    123648  ultralytics.nn.modules.block.C2f             [192, 128, 1]                 \n",
      " 19                  -1  1    147712  ultralytics.nn.modules.conv.Conv             [128, 128, 3, 2]              \n",
      " 20             [-1, 9]  1         0  ultralytics.nn.modules.conv.Concat           [1]                           \n",
      " 21                  -1  1    493056  ultralytics.nn.modules.block.C2f             [384, 256, 1]                 \n",
      " 22        [15, 18, 21]  1    751702  ultralytics.nn.modules.head.Detect           [2, [64, 128, 256]]           \n",
      "Model summary: 225 layers, 3011238 parameters, 3011222 gradients, 8.2 GFLOPs\n",
      "\n",
      "Transferred 319/355 items from pretrained weights\n",
      "\u001b[34m\u001b[1mTensorBoard: \u001b[0mStart with 'tensorboard --logdir runs/detect/train2', view at http://localhost:6006/\n",
      "Freezing layer 'model.22.dfl.conv.weight'\n",
      "\u001b[34m\u001b[1mtrain: \u001b[0mScanning /Users/flychuban/Desktop/TUES_10_klas/Exercise_projects/Football\u001b[0m\n",
      "\u001b[34m\u001b[1mval: \u001b[0mScanning /Users/flychuban/Desktop/TUES_10_klas/Exercise_projects/FootballGa\u001b[0m\n",
      "Plotting labels to runs/detect/train2/labels.jpg... \n",
      "\u001b[34m\u001b[1moptimizer:\u001b[0m 'optimizer=auto' found, ignoring 'lr0=0.01' and 'momentum=0.937' and determining best 'optimizer', 'lr0' and 'momentum' automatically... \n",
      "\u001b[34m\u001b[1moptimizer:\u001b[0m AdamW(lr=0.001667, momentum=0.9) with parameter groups 57 weight(decay=0.0), 64 weight(decay=0.0005), 63 bias(decay=0.0)\n",
      "Image sizes 640 train, 640 val\n",
      "Using 0 dataloader workers\n",
      "Logging results to \u001b[1mruns/detect/train2\u001b[0m\n",
      "Starting training for 100 epochs...\n",
      "\n",
      "      Epoch    GPU_mem   box_loss   cls_loss   dfl_loss  Instances       Size\n",
      "      1/100         0G      2.253      1.949      1.123        226        640: 1\n",
      "                 Class     Images  Instances      Box(P          R      mAP50  m\n",
      "                   all         70       1476       0.81      0.292      0.254     0.0667\n",
      "\n",
      "      Epoch    GPU_mem   box_loss   cls_loss   dfl_loss  Instances       Size\n",
      "      2/100         0G      2.108      1.194      1.071        307        640: 1\n",
      "                 Class     Images  Instances      Box(P          R      mAP50  m\n",
      "                   all         70       1476      0.855       0.36      0.359      0.117\n",
      "\n",
      "      Epoch    GPU_mem   box_loss   cls_loss   dfl_loss  Instances       Size\n",
      "      3/100         0G       2.11      1.171      1.078        838        640:  ^C\n",
      "      3/100         0G       2.11      1.171      1.078        838        640:  \n",
      "Traceback (most recent call last):\n",
      "  File \"/Users/flychuban/miniconda3/bin/yolo\", line 8, in <module>\n",
      "    sys.exit(entrypoint())\n",
      "  File \"/Users/flychuban/miniconda3/lib/python3.10/site-packages/ultralytics/cfg/__init__.py\", line 445, in entrypoint\n",
      "    getattr(model, mode)(**overrides)  # default args from model\n",
      "  File \"/Users/flychuban/miniconda3/lib/python3.10/site-packages/ultralytics/engine/model.py\", line 341, in train\n",
      "    self.trainer.train()\n",
      "  File \"/Users/flychuban/miniconda3/lib/python3.10/site-packages/ultralytics/engine/trainer.py\", line 191, in train\n",
      "    self._do_train(world_size)\n",
      "  File \"/Users/flychuban/miniconda3/lib/python3.10/site-packages/ultralytics/engine/trainer.py\", line 342, in _do_train\n",
      "    self.loss, self.loss_items = self.model(batch)\n",
      "  File \"/Users/flychuban/miniconda3/lib/python3.10/site-packages/torch/nn/modules/module.py\", line 1518, in _wrapped_call_impl\n",
      "    return self._call_impl(*args, **kwargs)\n",
      "  File \"/Users/flychuban/miniconda3/lib/python3.10/site-packages/torch/nn/modules/module.py\", line 1527, in _call_impl\n",
      "    return forward_call(*args, **kwargs)\n",
      "  File \"/Users/flychuban/miniconda3/lib/python3.10/site-packages/ultralytics/nn/tasks.py\", line 41, in forward\n",
      "    return self.loss(x, *args, **kwargs)\n",
      "  File \"/Users/flychuban/miniconda3/lib/python3.10/site-packages/ultralytics/nn/tasks.py\", line 212, in loss\n",
      "    return self.criterion(preds, batch)\n",
      "  File \"/Users/flychuban/miniconda3/lib/python3.10/site-packages/ultralytics/utils/loss.py\", line 180, in __call__\n",
      "    targets = self.preprocess(targets.to(self.device), batch_size, scale_tensor=imgsz[[1, 0, 1, 0]])\n",
      "  File \"/Users/flychuban/miniconda3/lib/python3.10/site-packages/ultralytics/utils/loss.py\", line -1, in preprocess\n",
      "KeyboardInterrupt\n"
     ]
    }
   ],
   "source": [
    "!yolo task=detect mode=train model=yolov8n data={dataset.location}/data.yaml epochs=100 imgsz=640 device=mps"
   ]
  },
  {
   "cell_type": "code",
   "execution_count": null,
   "metadata": {},
   "outputs": [],
   "source": []
  }
 ],
 "metadata": {
  "kernelspec": {
   "display_name": "base",
   "language": "python",
   "name": "python3"
  },
  "language_info": {
   "codemirror_mode": {
    "name": "ipython",
    "version": 3
   },
   "file_extension": ".py",
   "mimetype": "text/x-python",
   "name": "python",
   "nbconvert_exporter": "python",
   "pygments_lexer": "ipython3",
   "version": "3.10.13"
  }
 },
 "nbformat": 4,
 "nbformat_minor": 2
}
