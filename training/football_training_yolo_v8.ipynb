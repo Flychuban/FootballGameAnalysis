{
 "cells": [
  {
   "cell_type": "code",
   "execution_count": 1,
   "metadata": {},
   "outputs": [
    {
     "name": "stdout",
     "output_type": "stream",
     "text": [
      "Requirement already satisfied: roboflow in /Users/flychuban/miniconda3/lib/python3.10/site-packages (1.1.42)\n",
      "Requirement already satisfied: certifi in /Users/flychuban/miniconda3/lib/python3.10/site-packages (from roboflow) (2023.11.17)\n",
      "Requirement already satisfied: idna==3.7 in /Users/flychuban/miniconda3/lib/python3.10/site-packages (from roboflow) (3.7)\n",
      "Requirement already satisfied: cycler in /Users/flychuban/miniconda3/lib/python3.10/site-packages (from roboflow) (0.12.1)\n",
      "Requirement already satisfied: kiwisolver>=1.3.1 in /Users/flychuban/miniconda3/lib/python3.10/site-packages (from roboflow) (1.4.5)\n",
      "Requirement already satisfied: matplotlib in /Users/flychuban/miniconda3/lib/python3.10/site-packages (from roboflow) (3.8.2)\n",
      "Requirement already satisfied: numpy>=1.18.5 in /Users/flychuban/miniconda3/lib/python3.10/site-packages (from roboflow) (1.26.3)\n",
      "Requirement already satisfied: opencv-python-headless==4.10.0.84 in /Users/flychuban/miniconda3/lib/python3.10/site-packages (from roboflow) (4.10.0.84)\n",
      "Requirement already satisfied: Pillow>=7.1.2 in /Users/flychuban/miniconda3/lib/python3.10/site-packages (from roboflow) (10.1.0)\n",
      "Requirement already satisfied: python-dateutil in /Users/flychuban/miniconda3/lib/python3.10/site-packages (from roboflow) (2.8.2)\n",
      "Requirement already satisfied: python-dotenv in /Users/flychuban/miniconda3/lib/python3.10/site-packages (from roboflow) (1.0.1)\n",
      "Requirement already satisfied: requests in /Users/flychuban/miniconda3/lib/python3.10/site-packages (from roboflow) (2.31.0)\n",
      "Requirement already satisfied: six in /Users/flychuban/miniconda3/lib/python3.10/site-packages (from roboflow) (1.16.0)\n",
      "Requirement already satisfied: urllib3>=1.26.6 in /Users/flychuban/miniconda3/lib/python3.10/site-packages (from roboflow) (1.26.18)\n",
      "Requirement already satisfied: tqdm>=4.41.0 in /Users/flychuban/miniconda3/lib/python3.10/site-packages (from roboflow) (4.65.0)\n",
      "Requirement already satisfied: PyYAML>=5.3.1 in /Users/flychuban/miniconda3/lib/python3.10/site-packages (from roboflow) (6.0.1)\n",
      "Requirement already satisfied: requests-toolbelt in /Users/flychuban/miniconda3/lib/python3.10/site-packages (from roboflow) (1.0.0)\n",
      "Requirement already satisfied: filetype in /Users/flychuban/miniconda3/lib/python3.10/site-packages (from roboflow) (1.2.0)\n",
      "Requirement already satisfied: contourpy>=1.0.1 in /Users/flychuban/miniconda3/lib/python3.10/site-packages (from matplotlib->roboflow) (1.2.0)\n",
      "Requirement already satisfied: fonttools>=4.22.0 in /Users/flychuban/miniconda3/lib/python3.10/site-packages (from matplotlib->roboflow) (4.46.0)\n",
      "Requirement already satisfied: packaging>=20.0 in /Users/flychuban/miniconda3/lib/python3.10/site-packages (from matplotlib->roboflow) (23.1)\n",
      "Requirement already satisfied: pyparsing>=2.3.1 in /Users/flychuban/miniconda3/lib/python3.10/site-packages (from matplotlib->roboflow) (3.1.1)\n",
      "Requirement already satisfied: charset-normalizer<4,>=2 in /Users/flychuban/miniconda3/lib/python3.10/site-packages (from requests->roboflow) (2.0.4)\n",
      "Note: you may need to restart the kernel to use updated packages.\n",
      "Requirement already satisfied: ultralytics==8.0.196 in /Users/flychuban/miniconda3/lib/python3.10/site-packages (8.0.196)\n",
      "Requirement already satisfied: matplotlib>=3.3.0 in /Users/flychuban/miniconda3/lib/python3.10/site-packages (from ultralytics==8.0.196) (3.8.2)\n",
      "Requirement already satisfied: numpy>=1.22.2 in /Users/flychuban/miniconda3/lib/python3.10/site-packages (from ultralytics==8.0.196) (1.26.3)\n",
      "Requirement already satisfied: opencv-python>=4.6.0 in /Users/flychuban/miniconda3/lib/python3.10/site-packages (from ultralytics==8.0.196) (4.9.0.80)\n",
      "Requirement already satisfied: pillow>=7.1.2 in /Users/flychuban/miniconda3/lib/python3.10/site-packages (from ultralytics==8.0.196) (10.1.0)\n",
      "Requirement already satisfied: pyyaml>=5.3.1 in /Users/flychuban/miniconda3/lib/python3.10/site-packages (from ultralytics==8.0.196) (6.0.1)\n",
      "Requirement already satisfied: requests>=2.23.0 in /Users/flychuban/miniconda3/lib/python3.10/site-packages (from ultralytics==8.0.196) (2.31.0)\n",
      "Requirement already satisfied: scipy>=1.4.1 in /Users/flychuban/miniconda3/lib/python3.10/site-packages (from ultralytics==8.0.196) (1.11.4)\n",
      "Requirement already satisfied: torch>=1.8.0 in /Users/flychuban/miniconda3/lib/python3.10/site-packages (from ultralytics==8.0.196) (2.1.1)\n",
      "Requirement already satisfied: torchvision>=0.9.0 in /Users/flychuban/miniconda3/lib/python3.10/site-packages (from ultralytics==8.0.196) (0.16.1)\n",
      "Requirement already satisfied: tqdm>=4.64.0 in /Users/flychuban/miniconda3/lib/python3.10/site-packages (from ultralytics==8.0.196) (4.65.0)\n",
      "Requirement already satisfied: pandas>=1.1.4 in /Users/flychuban/miniconda3/lib/python3.10/site-packages (from ultralytics==8.0.196) (2.1.4)\n",
      "Requirement already satisfied: seaborn>=0.11.0 in /Users/flychuban/miniconda3/lib/python3.10/site-packages (from ultralytics==8.0.196) (0.13.0)\n",
      "Requirement already satisfied: psutil in /Users/flychuban/miniconda3/lib/python3.10/site-packages (from ultralytics==8.0.196) (5.9.0)\n",
      "Requirement already satisfied: py-cpuinfo in /Users/flychuban/miniconda3/lib/python3.10/site-packages (from ultralytics==8.0.196) (9.0.0)\n",
      "Requirement already satisfied: thop>=0.1.1 in /Users/flychuban/miniconda3/lib/python3.10/site-packages (from ultralytics==8.0.196) (0.1.1.post2209072238)\n",
      "Requirement already satisfied: contourpy>=1.0.1 in /Users/flychuban/miniconda3/lib/python3.10/site-packages (from matplotlib>=3.3.0->ultralytics==8.0.196) (1.2.0)\n",
      "Requirement already satisfied: cycler>=0.10 in /Users/flychuban/miniconda3/lib/python3.10/site-packages (from matplotlib>=3.3.0->ultralytics==8.0.196) (0.12.1)\n",
      "Requirement already satisfied: fonttools>=4.22.0 in /Users/flychuban/miniconda3/lib/python3.10/site-packages (from matplotlib>=3.3.0->ultralytics==8.0.196) (4.46.0)\n",
      "Requirement already satisfied: kiwisolver>=1.3.1 in /Users/flychuban/miniconda3/lib/python3.10/site-packages (from matplotlib>=3.3.0->ultralytics==8.0.196) (1.4.5)\n",
      "Requirement already satisfied: packaging>=20.0 in /Users/flychuban/miniconda3/lib/python3.10/site-packages (from matplotlib>=3.3.0->ultralytics==8.0.196) (23.1)\n",
      "Requirement already satisfied: pyparsing>=2.3.1 in /Users/flychuban/miniconda3/lib/python3.10/site-packages (from matplotlib>=3.3.0->ultralytics==8.0.196) (3.1.1)\n",
      "Requirement already satisfied: python-dateutil>=2.7 in /Users/flychuban/miniconda3/lib/python3.10/site-packages (from matplotlib>=3.3.0->ultralytics==8.0.196) (2.8.2)\n",
      "Requirement already satisfied: pytz>=2020.1 in /Users/flychuban/miniconda3/lib/python3.10/site-packages (from pandas>=1.1.4->ultralytics==8.0.196) (2023.3.post1)\n",
      "Requirement already satisfied: tzdata>=2022.1 in /Users/flychuban/miniconda3/lib/python3.10/site-packages (from pandas>=1.1.4->ultralytics==8.0.196) (2023.3)\n",
      "Requirement already satisfied: charset-normalizer<4,>=2 in /Users/flychuban/miniconda3/lib/python3.10/site-packages (from requests>=2.23.0->ultralytics==8.0.196) (2.0.4)\n",
      "Requirement already satisfied: idna<4,>=2.5 in /Users/flychuban/miniconda3/lib/python3.10/site-packages (from requests>=2.23.0->ultralytics==8.0.196) (3.7)\n",
      "Requirement already satisfied: urllib3<3,>=1.21.1 in /Users/flychuban/miniconda3/lib/python3.10/site-packages (from requests>=2.23.0->ultralytics==8.0.196) (1.26.18)\n",
      "Requirement already satisfied: certifi>=2017.4.17 in /Users/flychuban/miniconda3/lib/python3.10/site-packages (from requests>=2.23.0->ultralytics==8.0.196) (2023.11.17)\n",
      "Requirement already satisfied: filelock in /Users/flychuban/miniconda3/lib/python3.10/site-packages (from torch>=1.8.0->ultralytics==8.0.196) (3.13.1)\n",
      "Requirement already satisfied: typing-extensions in /Users/flychuban/miniconda3/lib/python3.10/site-packages (from torch>=1.8.0->ultralytics==8.0.196) (4.11.0)\n",
      "Requirement already satisfied: sympy in /Users/flychuban/miniconda3/lib/python3.10/site-packages (from torch>=1.8.0->ultralytics==8.0.196) (1.12)\n",
      "Requirement already satisfied: networkx in /Users/flychuban/miniconda3/lib/python3.10/site-packages (from torch>=1.8.0->ultralytics==8.0.196) (3.2.1)\n",
      "Requirement already satisfied: jinja2 in /Users/flychuban/miniconda3/lib/python3.10/site-packages (from torch>=1.8.0->ultralytics==8.0.196) (3.1.2)\n",
      "Requirement already satisfied: fsspec in /Users/flychuban/miniconda3/lib/python3.10/site-packages (from torch>=1.8.0->ultralytics==8.0.196) (2023.12.1)\n",
      "Requirement already satisfied: six>=1.5 in /Users/flychuban/miniconda3/lib/python3.10/site-packages (from python-dateutil>=2.7->matplotlib>=3.3.0->ultralytics==8.0.196) (1.16.0)\n",
      "Requirement already satisfied: MarkupSafe>=2.0 in /Users/flychuban/miniconda3/lib/python3.10/site-packages (from jinja2->torch>=1.8.0->ultralytics==8.0.196) (2.1.1)\n",
      "Requirement already satisfied: mpmath>=0.19 in /Users/flychuban/miniconda3/lib/python3.10/site-packages (from sympy->torch>=1.8.0->ultralytics==8.0.196) (1.3.0)\n",
      "Note: you may need to restart the kernel to use updated packages.\n",
      "Requirement already satisfied: python-dotenv in /Users/flychuban/miniconda3/lib/python3.10/site-packages (1.0.1)\n",
      "Note: you may need to restart the kernel to use updated packages.\n"
     ]
    }
   ],
   "source": [
    "%pip install roboflow\n",
    "%pip install ultralytics==8.0.196\n",
    "%pip install python-dotenv"
   ]
  },
  {
   "cell_type": "code",
   "execution_count": 2,
   "metadata": {},
   "outputs": [
    {
     "name": "stdout",
     "output_type": "stream",
     "text": [
      "loading Roboflow workspace...\n",
      "loading Roboflow project...\n"
     ]
    }
   ],
   "source": [
    "from ultralytics import *\n",
    "from roboflow import Roboflow\n",
    "import dotenv\n",
    "import os\n",
    "\n",
    "# Load environment variables\n",
    "dotenv.load_dotenv()\n",
    "\n",
    "# Load data\n",
    "rf = Roboflow(api_key=os.getenv(\"ROBOFLOW_API_KEY\"))\n",
    "project = rf.workspace(\"delfos\").project(\"bundesliga-data-shootout-a411n\")\n",
    "version = project.version(9)\n",
    "dataset = version.download(\"yolov8\")\n",
    "                "
   ]
  },
  {
   "cell_type": "markdown",
   "metadata": {},
   "source": [
    "Move dataset directories one folder deeper because of yolo requirements"
   ]
  },
  {
   "cell_type": "code",
   "execution_count": 3,
   "metadata": {},
   "outputs": [
    {
     "data": {
      "text/plain": [
       "'Bundesliga-Data-Shootout-9/Bundesliga-Data-Shootout-9/test'"
      ]
     },
     "execution_count": 3,
     "metadata": {},
     "output_type": "execute_result"
    }
   ],
   "source": [
    "import shutil\n",
    "\n",
    "shutil.move(\"Bundesliga-Data-Shootout-9/train\",\n",
    "            \"Bundesliga-Data-Shootout-9/Bundesliga-Data-Shootout-9/train\")\n",
    "\n",
    "shutil.move(\"Bundesliga-Data-Shootout-9/valid\",\n",
    "            \"Bundesliga-Data-Shootout-9/Bundesliga-Data-Shootout-9/valid\")\n",
    "\n",
    "shutil.move(\"Bundesliga-Data-Shootout-9/test\",\n",
    "            \"Bundesliga-Data-Shootout-9/Bundesliga-Data-Shootout-9/test\")\n"
   ]
  },
  {
   "cell_type": "code",
   "execution_count": null,
   "metadata": {},
   "outputs": [],
   "source": []
  }
 ],
 "metadata": {
  "kernelspec": {
   "display_name": "base",
   "language": "python",
   "name": "python3"
  },
  "language_info": {
   "codemirror_mode": {
    "name": "ipython",
    "version": 3
   },
   "file_extension": ".py",
   "mimetype": "text/x-python",
   "name": "python",
   "nbconvert_exporter": "python",
   "pygments_lexer": "ipython3",
   "version": "3.10.13"
  }
 },
 "nbformat": 4,
 "nbformat_minor": 2
}
